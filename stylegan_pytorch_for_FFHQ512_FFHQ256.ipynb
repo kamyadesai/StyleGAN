{
  "nbformat": 4,
  "nbformat_minor": 0,
  "metadata": {
    "colab": {
      "name": "stylegan_pytorch_for_FFHQ512_FFHQ256.ipynb",
      "provenance": [],
      "collapsed_sections": []
    },
    "kernelspec": {
      "name": "python3",
      "display_name": "Python 3"
    },
    "accelerator": "GPU"
  },
  "cells": [
    {
      "cell_type": "code",
      "metadata": {
        "id": "XSHsEAOXiM8d",
        "colab_type": "code",
        "colab": {
          "base_uri": "https://localhost:8080/",
          "height": 212
        },
        "outputId": "c46658f3-a00b-4a01-b698-01f78e8d704b"
      },
      "source": [
        "import argparse\n",
        "import math\n",
        "from torch import nn\n",
        "import torch\n",
        "from torchvision import utils\n",
        "from PIL import Image\n",
        "import matplotlib.pyplot as plt\n",
        "from random import randint\n",
        "import pickle\n",
        "!wget https://raw.githubusercontent.com/rosinality/style-based-gan-pytorch/master/model.py\n",
        "from model import Generator,PixelNorm,EqualLinear\n",
        "\n",
        "class StyledGenerator(nn.Module):\n",
        "    def __init__(self, code_dim=512, n_mlp=8):\n",
        "        super().__init__()\n",
        "        self.generator = Generator(code_dim)\n",
        "        layers = [PixelNorm()]\n",
        "        for i in range(n_mlp):\n",
        "            layers.append(EqualLinear(code_dim, code_dim))\n",
        "            layers.append(nn.LeakyReLU(0.2))\n",
        "        self.style = nn.Sequential(*layers)\n",
        "\n",
        "    def forward(self,input,noise=None,step=0,alpha=-1,mean_style=None,style_weight=0,mixing_range=(-1, -1)):\n",
        "        styles = []\n",
        "        if type(input) not in (list, tuple):\n",
        "            input = [input]\n",
        "        for i in input:\n",
        "            styles.append(self.style(i))\n",
        "        batch = input[0].shape[0]\n",
        "        if noise is None:\n",
        "            noise = []\n",
        "            for i in range(step + 1):\n",
        "                size = 4 * 2 ** i\n",
        "                noise.append(torch.randn(batch, 1, size, size, device=input[0].device))\n",
        "        if mean_style is not None:\n",
        "            styles_norm = []\n",
        "            for style in styles:\n",
        "                styles_norm.append(mean_style + style_weight * (style - mean_style))\n",
        "            styles = styles_norm\n",
        "        return self.generator(styles, noise, step, alpha, mixing_range=mixing_range)\n",
        "\n",
        "    def mean_style(self, input):\n",
        "        style = self.style(input).mean(0, keepdim=True)\n",
        "        return style"
      ],
      "execution_count": null,
      "outputs": [
        {
          "output_type": "stream",
          "text": [
            "--2020-05-01 04:22:30--  https://raw.githubusercontent.com/rosinality/style-based-gan-pytorch/master/model.py\n",
            "Resolving raw.githubusercontent.com (raw.githubusercontent.com)... 151.101.0.133, 151.101.64.133, 151.101.128.133, ...\n",
            "Connecting to raw.githubusercontent.com (raw.githubusercontent.com)|151.101.0.133|:443... connected.\n",
            "HTTP request sent, awaiting response... 200 OK\n",
            "Length: 17017 (17K) [text/plain]\n",
            "Saving to: ‘model.py’\n",
            "\n",
            "\rmodel.py              0%[                    ]       0  --.-KB/s               \rmodel.py            100%[===================>]  16.62K  --.-KB/s    in 0s      \n",
            "\n",
            "2020-05-01 04:22:30 (35.8 MB/s) - ‘model.py’ saved [17017/17017]\n",
            "\n"
          ],
          "name": "stdout"
        }
      ]
    },
    {
      "cell_type": "code",
      "metadata": {
        "id": "4k2laPqxa_7o",
        "colab_type": "code",
        "colab": {}
      },
      "source": [
        "@torch.no_grad()\n",
        "def get_mean_style(generator, device):\n",
        "    mean_style = None\n",
        "    for i in range(10):\n",
        "        style = generator.mean_style(torch.randn(1024, 512).to(device))\n",
        "        if mean_style is None: mean_style = style\n",
        "        else: mean_style += style\n",
        "    mean_style /= 10\n",
        "    return mean_style\n",
        "    \n",
        "@torch.no_grad()\n",
        "def style_mixing(generator, step, mean_style, n_source, n_target, device, scode):\n",
        "    source_code = scode\n",
        "    target_code = torch.randn(n_target, 512).to(device)    \n",
        "    shape = 4 * 2 ** step\n",
        "    alpha = 1\n",
        "    target_image = generator(target_code, step=step, alpha=alpha, mean_style=mean_style, style_weight=0.7)\n",
        "    for i in range(n_target):\n",
        "        image = generator([target_code[i].unsqueeze(0).repeat(n_source, 1), source_code],step=step,alpha=alpha,mean_style=mean_style,style_weight=0.7,mixing_range=(0, 1))   \n",
        "    return image"
      ],
      "execution_count": null,
      "outputs": []
    },
    {
      "cell_type": "code",
      "metadata": {
        "id": "bMlWK0pktUY3",
        "colab_type": "code",
        "colab": {}
      },
      "source": [
        "size = 256\n",
        "path = '/content/drive/My Drive/CV/stylegan-256px-new.model'   ## Location of pre-trained model    \n",
        "device = 'cuda'\n",
        "generator = StyledGenerator(512).to(device)\n",
        "generator.load_state_dict(torch.load(path)['g_running'])\n",
        "generator.eval()\n",
        "mean_style = get_mean_style(generator, device)\n",
        "step = int(math.log(size, 2)) - 2"
      ],
      "execution_count": null,
      "outputs": []
    },
    {
      "cell_type": "code",
      "metadata": {
        "id": "WniorH7_u3vh",
        "colab_type": "code",
        "colab": {}
      },
      "source": [
        "# Generate and save 50 source images along with their rand pt files\n",
        "for i in range(50):\n",
        "  src_code = torch.randn(1, 512).to(device)\n",
        "  torch.save(src_code, f'/content/drive/My Drive/CV/srcim_pytorch_stylegan_256/src256_{i}.pt')\n",
        "  src_im = generator(src_code, step=step, alpha=1, mean_style=mean_style, style_weight=0.7)\n",
        "  utils.save_image(src_im, f'/content/drive/My Drive/CV/srcim_pytorch_stylegan_256/src256_{i}.png', nrow=1 + 1, normalize=True, range=(-1, 1))\n",
        "\n",
        "# Generate 2500 style-mixed images with saved rand pt of src images\n",
        "rnd_list = []\n",
        "for j in range(2500):\n",
        "  randm = randint(0,49)\n",
        "  rnd_list.append(randm)\n",
        "  scode = torch.load('/content/drive/My Drive/CV/srcim_pytorch_stylegan_256/src256_'+str(randm)+'.pt')\n",
        "  img = style_mixing(generator, step, mean_style, 1, 1, device,scode)\n",
        "  utils.save_image(img, f'/content/drive/My Drive/CV/dataset_ffhq_sgan_256/final_{j}.png', nrow=1 + 1, normalize=True, range=(-1, 1))\n",
        "\n",
        "# Save src img numbers for the 2500 images into text file\n",
        "with open('/content/drive/My Drive/CV/rndforall.txt', 'wb') as file:\n",
        "  pickle.dump(rnd_list,file)"
      ],
      "execution_count": null,
      "outputs": []
    },
    {
      "cell_type": "code",
      "metadata": {
        "id": "GU3XW0qI9N-i",
        "colab_type": "code",
        "colab": {}
      },
      "source": [
        "# Assign gender,age manually to 50 src images, map it to final and dump to text file\n",
        "\n",
        "# 512x512 source gender,age values\n",
        "# src_gndr = [1,0,1,0,1,0,0,0,0,0,1,1,0,1,0,1,1,1,1,1,1,1,0,0,0,1,0,1,0,0,1,1,1,0,1,1,1,0,0,0,0,0,0,0,1,0,1,0,0,0]  ## 0-female 1-male\n",
        "# src_age = [1,1,1,1,1,1,1,1,0,1,0,0,1,1,0,1,1,1,1,1,1,1,1,1,1,1,1,1,1,1,1,1,1,1,1,1,1,1,0,1,1,1,1,1,1,1,0,1,1,0]  ## 0-child 1-adult\n",
        "\n",
        "#256x256 source gender,age values\n",
        "src_gndr = [0,0,0,1,0,1,1,0,1,0,0,0,0,1,0,0,0,1,0,1,1,0,0,0,1,1,1,0,0,0,1,1,1,0,1,1,1,0,0,1,1,1,1,1,0,0,0,1,1,0]\n",
        "src_age = [1,1,1,1,1,1,1,1,1,1,1,1,1,0,1,1,1,1,1,1,1,0,1,1,0,0,1,1,1,0,1,1,0,1,0,1,1,0,1,1,1,1,1,1,1,1,0,0,1,0]\n",
        "\n",
        "gndr_fnl = [src_gndr[itm] for itm in rnd_list]\n",
        "age_fnl = [src_age[itm] for itm in rnd_list]\n",
        "with open('/content/drive/My Drive/CV/gender_ffhq256.txt', 'wb') as file:\n",
        "  pickle.dump(gndr_fnl,file)\n",
        "with open('/content/drive/My Drive/CV/age_ffhq256.txt', 'wb') as file:\n",
        "  pickle.dump(age_fnl,file)"
      ],
      "execution_count": null,
      "outputs": []
    },
    {
      "cell_type": "code",
      "metadata": {
        "id": "YNB5BsHlf3v9",
        "colab_type": "code",
        "colab": {}
      },
      "source": [
        ""
      ],
      "execution_count": null,
      "outputs": []
    }
  ]
}